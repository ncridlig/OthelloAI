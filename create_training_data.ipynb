{
 "cells": [
  {
   "cell_type": "code",
   "execution_count": 7,
   "metadata": {
    "pycharm": {
     "name": "#%%\n"
    }
   },
   "outputs": [],
   "source": [
    "import random\n",
    "\n",
    "import pandas as pd\n",
    "import os\n",
    "import numpy as np\n",
    "import play_othello\n",
    "from collections import defaultdict\n",
    "\n",
    "move_dict = {\n",
    "    'a': 0,\n",
    "    'b': 1,\n",
    "    'c': 2,\n",
    "    'd': 3,\n",
    "    'e': 4,\n",
    "    'f': 5,\n",
    "    'g': 6,\n",
    "    'h': 7\n",
    "}"
   ]
  },
  {
   "cell_type": "code",
   "execution_count": 8,
   "metadata": {
    "pycharm": {
     "name": "#%%\n"
    }
   },
   "outputs": [
    {
     "data": {
      "text/html": [
       "<div>\n",
       "<style scoped>\n",
       "    .dataframe tbody tr th:only-of-type {\n",
       "        vertical-align: middle;\n",
       "    }\n",
       "\n",
       "    .dataframe tbody tr th {\n",
       "        vertical-align: top;\n",
       "    }\n",
       "\n",
       "    .dataframe thead th {\n",
       "        text-align: right;\n",
       "    }\n",
       "</style>\n",
       "<table border=\"1\" class=\"dataframe\">\n",
       "  <thead>\n",
       "    <tr style=\"text-align: right;\">\n",
       "      <th></th>\n",
       "      <th>eOthello_game_id</th>\n",
       "      <th>winner</th>\n",
       "      <th>game_moves</th>\n",
       "    </tr>\n",
       "  </thead>\n",
       "  <tbody>\n",
       "    <tr>\n",
       "      <th>0</th>\n",
       "      <td>1056798</td>\n",
       "      <td>1</td>\n",
       "      <td>f5d6c4d3e6f4e3f6c5b4e7f3c6d7b5a5c3b3g5h5g4h4e2...</td>\n",
       "    </tr>\n",
       "    <tr>\n",
       "      <th>1</th>\n",
       "      <td>1050515</td>\n",
       "      <td>-1</td>\n",
       "      <td>d3c5f6f5e6e3d6f7b6d7e2c6d8c4e7c3f4c8c7d2d1a6b3...</td>\n",
       "    </tr>\n",
       "    <tr>\n",
       "      <th>2</th>\n",
       "      <td>996989</td>\n",
       "      <td>1</td>\n",
       "      <td>f5d6c4d3c3f4e6b3e2c5c7f6g5e3e7g6g4h4f3g3f2h6h5...</td>\n",
       "    </tr>\n",
       "    <tr>\n",
       "      <th>3</th>\n",
       "      <td>977775</td>\n",
       "      <td>0</td>\n",
       "      <td>f5d6c5b4c3e3e2f4f3g4e6g5f6f7e7g3h6c4d3h5g6h7b3...</td>\n",
       "    </tr>\n",
       "    <tr>\n",
       "      <th>4</th>\n",
       "      <td>900860</td>\n",
       "      <td>1</td>\n",
       "      <td>f5d6c4d3c3f4c5b4g3c6b5f6e2g4e3e6b3a5d7e7f3a3h4...</td>\n",
       "    </tr>\n",
       "  </tbody>\n",
       "</table>\n",
       "</div>"
      ],
      "text/plain": [
       "   eOthello_game_id  winner                                         game_moves\n",
       "0           1056798       1  f5d6c4d3e6f4e3f6c5b4e7f3c6d7b5a5c3b3g5h5g4h4e2...\n",
       "1           1050515      -1  d3c5f6f5e6e3d6f7b6d7e2c6d8c4e7c3f4c8c7d2d1a6b3...\n",
       "2            996989       1  f5d6c4d3c3f4e6b3e2c5c7f6g5e3e7g6g4h4f3g3f2h6h5...\n",
       "3            977775       0  f5d6c5b4c3e3e2f4f3g4e6g5f6f7e7g3h6c4d3h5g6h7b3...\n",
       "4            900860       1  f5d6c4d3c3f4c5b4g3c6b5f6e2g4e3e6b3a5d7e7f3a3h4..."
      ]
     },
     "execution_count": 8,
     "metadata": {},
     "output_type": "execute_result"
    }
   ],
   "source": [
    "data = pd.read_csv('othello_dataset.csv')\n",
    "data.head()"
   ]
  },
  {
   "cell_type": "code",
   "execution_count": 9,
   "metadata": {
    "pycharm": {
     "name": "#%%\n"
    }
   },
   "outputs": [],
   "source": [
    "def get_move_label(x,y):\n",
    "    \"\"\"\n",
    "    Converts a move in the form of (x,y) to a label from 0-59\n",
    "    :param x: row # of the move\n",
    "    :param y: column # of the move\n",
    "    :return: a label representing the move\n",
    "    \"\"\"\n",
    "\n",
    "    encoding = 8*x + y\n",
    "\n",
    "    if encoding <= 26:\n",
    "        return encoding\n",
    "    elif 29 <= encoding <= 34:\n",
    "        return encoding - 2\n",
    "    return encoding - 4\n",
    "\n",
    "def get_coord_after_rotation(x,y,rotation):\n",
    "\n",
    "    if rotation == 90:\n",
    "        new_x, new_y = 7-y, x\n",
    "    elif rotation == 180:\n",
    "        new_x, new_y = 7-x, 7-y\n",
    "    elif rotation == 270:\n",
    "        new_x, new_y = y, 7-x\n",
    "    return new_x, new_y\n",
    "\n",
    "def get_coord_after_reflection(x,y,reflection):\n",
    "\n",
    "    if reflection == 'horizontal':\n",
    "        new_x, new_y = x, 7 - y\n",
    "    elif reflection == 'vertical':\n",
    "        new_x, new_y = 7-x, y\n",
    "    elif reflection == 'diagonal':\n",
    "        new_x, new_y = y,x\n",
    "    return new_x, new_y"
   ]
  },
  {
   "cell_type": "code",
   "execution_count": 10,
   "metadata": {
    "pycharm": {
     "name": "#%%\n"
    }
   },
   "outputs": [],
   "source": [
    "def make_board_matrices(board, tile):\n",
    "\n",
    "    opp_tile = int(not bool(tile))\n",
    "    player_positions = np.argwhere(board == tile)\n",
    "    opponent_positions = np.argwhere(board == opp_tile)\n",
    "\n",
    "    # Make player and opponent matrices\n",
    "    player_matrix = np.zeros(shape=(8,8))\n",
    "    player_matrix[player_positions[:,0], player_positions[:,1]] = 1\n",
    "\n",
    "    opponent_matrix = np.zeros(shape=(8,8))\n",
    "    opponent_matrix[opponent_positions[:,0], opponent_positions[:,1]] = 1\n",
    "\n",
    "    # Stack matrices together and add regularization matrix\n",
    "    board_matrix = np.array([player_matrix, opponent_matrix, np.ones((8,8))])\n",
    "\n",
    "    return board_matrix"
   ]
  },
  {
   "cell_type": "code",
   "execution_count": 11,
   "metadata": {
    "pycharm": {
     "name": "#%%\n"
    }
   },
   "outputs": [],
   "source": [
    "def get_player_board(board, tile):\n",
    "\n",
    "    board_copy = np.array(board)\n",
    "    opp_tile = int(not bool(tile))\n",
    "    player_positions = np.argwhere(board == tile)\n",
    "    opponent_positions = np.argwhere(board == opp_tile)\n",
    "\n",
    "    board_copy[player_positions[:,0], player_positions[:,1]] = 1\n",
    "    board_copy[opponent_positions[:,0], opponent_positions[:,1]] = 0\n",
    "\n",
    "    return board_copy"
   ]
  },
  {
   "cell_type": "code",
   "execution_count": null,
   "metadata": {
    "pycharm": {
     "name": "#%%\n"
    }
   },
   "outputs": [],
   "source": [
    "# Maps tuple version of board to the array representation of the board\n",
    "board_dict = defaultdict(set)\n",
    "game_idx = 0\n",
    "\n",
    "for move_list in data.game_moves:\n",
    "\n",
    "    # Create a list of coordinate moves\n",
    "    moves = [move_list[i:i+2] for i in range(0, len(move_list), 2)]\n",
    "    moves = [(int(move[1]) - 1, move_dict[move[0]]) for move in moves]\n",
    "\n",
    "    # Initialize board\n",
    "    board = np.ones((8,8)) - 2\n",
    "    board[3][3] = 0\n",
    "    board[4][4] = 0\n",
    "    board[3][4] = 1\n",
    "    board[4][3] = 1\n",
    "\n",
    "    tile = 1\n",
    "\n",
    "    for move_x, move_y in moves:\n",
    "\n",
    "        # If the current player can't make a move then switch players\n",
    "        if len(play_othello.getValidMoves(board, tile)) == 0:\n",
    "            tile = int(not bool(tile))\n",
    "\n",
    "        rot_90_board = np.rot90(board)\n",
    "        rot_180_board = np.rot90(board, k=2)\n",
    "        rot_270_board = np.rot90(board, k=3)\n",
    "        hflip_board = np.fliplr(board)\n",
    "        vflip_board = np.flipud(board)\n",
    "        diagonal_flip_board = np.array([board[j][i] for i in range(board.shape[0]) for j in range(board.shape[1])]).reshape((8,8))\n",
    "\n",
    "        # Convert player board to tuple\n",
    "        tuple_board = tuple(list(get_player_board(board,tile).flatten()))\n",
    "        tuple_rot_90_board = tuple(list(get_player_board(rot_90_board,tile).flatten()))\n",
    "        tuple_rot_180_board = tuple(list(get_player_board(rot_180_board,tile).flatten()))\n",
    "        tuple_rot_270_board = tuple(list(get_player_board(rot_270_board,tile).flatten()))\n",
    "        tuple_hflip_board = tuple(list(get_player_board(hflip_board,tile).flatten()))\n",
    "        tuple_vflip_board = tuple(list(get_player_board(vflip_board,tile).flatten()))\n",
    "        tuple_dflip_board = tuple(list(get_player_board(diagonal_flip_board,tile).flatten()))\n",
    "\n",
    "        # Get moves for rotated/reflected boards\n",
    "        move_rot_90_x, move_rot_90_y = get_coord_after_rotation(move_x, move_y, 90)\n",
    "        move_rot_180_x, move_rot_180_y = get_coord_after_rotation(move_x, move_y, 180)\n",
    "        move_rot_270_x, move_rot_270_y = get_coord_after_rotation(move_x, move_y, 270)\n",
    "\n",
    "        move_hflip_x, move_hflip_y = get_coord_after_reflection(move_x, move_y, 'horizontal')\n",
    "        move_vflip_x, move_vflip_y = get_coord_after_reflection(move_x, move_y, 'vertical')\n",
    "        move_dflip_x, move_dflip_y = get_coord_after_reflection(move_x, move_y, 'diagonal')\n",
    "\n",
    "\n",
    "        # Add the move the player made for the set of moves made for this board state\n",
    "        board_dict[tuple_board].add(get_move_label(move_x, move_y))\n",
    "        board_dict[tuple_rot_90_board].add(get_move_label(move_rot_90_x, move_rot_90_y))\n",
    "        board_dict[tuple_rot_180_board].add(get_move_label(move_rot_180_x, move_rot_180_y))\n",
    "        board_dict[tuple_rot_270_board].add(get_move_label(move_rot_270_x, move_rot_270_y))\n",
    "        board_dict[tuple_hflip_board].add(get_move_label(move_hflip_x, move_hflip_y))\n",
    "        board_dict[tuple_vflip_board].add(get_move_label(move_vflip_x, move_vflip_y))\n",
    "        board_dict[tuple_dflip_board].add(get_move_label(move_dflip_x, move_dflip_y))\n",
    "\n",
    "        # Get the pieces that are flipped after the move\n",
    "        flipped_pieces = np.array(play_othello.isValidMove(board, tile, move_x, move_y))\n",
    "\n",
    "        # Make the move and flip the pieces\n",
    "        board[move_x][move_y] = tile\n",
    "        board[flipped_pieces[:,0], flipped_pieces[:,1]] = tile\n",
    "\n",
    "        # Switch player turn\n",
    "        tile = int(not bool(tile))\n",
    "\n",
    "    game_idx +=1"
   ]
  },
  {
   "cell_type": "code",
   "execution_count": null,
   "metadata": {
    "pycharm": {
     "name": "#%%\n"
    }
   },
   "outputs": [],
   "source": [
    "tuple_board_states = list(board_dict.keys())\n",
    "random.shuffle(tuple_board_states)\n",
    "len(tuple_board_states)"
   ]
  },
  {
   "cell_type": "code",
   "execution_count": 15,
   "metadata": {
    "pycharm": {
     "is_executing": true,
     "name": "#%%\n"
    }
   },
   "outputs": [],
   "source": [
    "\n",
    "board_states = []\n",
    "\n",
    "# Contains all the labels for the\n",
    "labels = []\n",
    "\n",
    "for tuple_board_state in tuple_board_states:\n",
    "\n",
    "\n",
    "    # Reshape the board array to a 2D matrix\n",
    "    board = np.reshape(np.array(list(tuple_board_state)), (8,8))\n",
    "\n",
    "    # Get the player representation of the matrix,\n",
    "    # should be 3x8x8\n",
    "    board_matrix = make_board_matrices(board, 1)\n",
    "\n",
    "    for move_label in board_dict[tuple_board_state]:\n",
    "\n",
    "        if board_states is None:\n",
    "            board_states = board_matrix\n",
    "        else:\n",
    "            board_states.append(board_matrix)\n",
    "\n",
    "        labels.append(move_label)\n"
   ]
  },
  {
   "cell_type": "code",
   "execution_count": null,
   "metadata": {
    "pycharm": {
     "name": "#%%\n"
    }
   },
   "outputs": [],
   "source": [
    "labels = np.array(labels)\n",
    "board_states = np.array(board_states)\n",
    "labels.shape, board_states.shape"
   ]
  },
  {
   "cell_type": "code",
   "execution_count": null,
   "metadata": {
    "pycharm": {
     "name": "#%%\n"
    }
   },
   "outputs": [],
   "source": [
    "train_data = board_states[:int(0.8*board_states.shape[0])]\n",
    "train_labels = labels[:int(0.8*board_states.shape[0])]\n",
    "\n",
    "val_data = board_states[int(0.8*board_states.shape[0]):int(0.9*board_states.shape[0])]\n",
    "val_labels = labels[int(0.8*board_states.shape[0]):int(0.9*board_states.shape[0])]\n",
    "\n",
    "test_data = board_states[int(0.9*board_states.shape[0]):]\n",
    "test_labels = labels[int(0.9*board_states.shape[0]):]\n",
    "\n",
    "train_data.shape, train_labels.shape, val_data.shape, val_labels.shape, test_data.shape, test_labels.shape"
   ]
  },
  {
   "cell_type": "code",
   "execution_count": null,
   "metadata": {
    "pycharm": {
     "name": "#%%\n"
    }
   },
   "outputs": [],
   "source": [
    "with open('train_data_large.npy', 'wb') as f:\n",
    "    np.save(f, train_data)\n",
    "\n",
    "with open('train_labels_large.npy', 'wb') as f:\n",
    "    np.save(f, train_labels)\n",
    "\n",
    "with open('val_data_large.npy', 'wb') as f:\n",
    "    np.save(f, val_data)\n",
    "\n",
    "with open('val_labels_large.npy', 'wb') as f:\n",
    "    np.save(f, val_labels)\n",
    "\n",
    "with open('test_data_large.npy', 'wb') as f:\n",
    "    np.save(f, test_data)\n",
    "\n",
    "with open('test_labels_large.npy', 'wb') as f:\n",
    "    np.save(f, test_labels)"
   ]
  }
 ],
 "metadata": {
  "kernelspec": {
   "display_name": "Python 3 (ipykernel)",
   "language": "python",
   "name": "python3"
  },
  "language_info": {
   "codemirror_mode": {
    "name": "ipython",
    "version": 3
   },
   "file_extension": ".py",
   "mimetype": "text/x-python",
   "name": "python",
   "nbconvert_exporter": "python",
   "pygments_lexer": "ipython3",
   "version": "3.9.13"
  }
 },
 "nbformat": 4,
 "nbformat_minor": 1
}
