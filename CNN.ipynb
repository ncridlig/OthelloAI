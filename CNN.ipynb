{
 "cells": [
  {
   "attachments": {},
   "cell_type": "markdown",
   "metadata": {},
   "source": [
    "# Imports"
   ]
  },
  {
   "cell_type": "code",
   "execution_count": null,
   "outputs": [],
   "source": [
    "import torch\n",
    "import torch.optim as optim\n",
    "from torch.utils.data import DataLoader, TensorDataset\n",
    "\n",
    "import torchvision.datasets as dset\n",
    "import torchvision.transforms as T\n",
    "\n",
    "import numpy as np\n",
    "from model import Conv8"
   ],
   "metadata": {
    "collapsed": false,
    "pycharm": {
     "name": "#%%\n"
    }
   }
  },
  {
   "cell_type": "markdown",
   "source": [
    "# Data Loader"
   ],
   "metadata": {
    "collapsed": false,
    "pycharm": {
     "name": "#%% md\n"
    }
   }
  },
  {
   "cell_type": "code",
   "execution_count": null,
   "outputs": [],
   "source": [
    "batch_size = 512\n",
    "\n",
    "# Load data and labels from .npy files\n",
    "train_data = np.load('OthelloData/train_data.npy')\n",
    "train_labels = np.load('OthelloData/train_labels.npy')\n",
    "\n",
    "test_data = np.load('OthelloData/test_data.npy')\n",
    "test_labels = np.load('OthelloData/test_labels.npy')\n",
    "\n",
    "val_data = np.load('OthelloData/val_data.npy')\n",
    "val_labels = np.load('OthelloData/val_labels.npy')\n",
    "\n",
    "# Convert to PyTorch Tensors\n",
    "train_data = torch.from_numpy(train_data)\n",
    "train_labels = torch.from_numpy(train_labels)\n",
    "\n",
    "test_data = torch.from_numpy(test_data)\n",
    "test_labels = torch.from_numpy(test_labels)\n",
    "\n",
    "val_data = torch.from_numpy(val_data)\n",
    "val_labels = torch.from_numpy(val_labels)\n",
    "\n",
    "# Create a PyTorch Dataset from the data and labels\n",
    "train_dataset = TensorDataset(train_data, train_labels)\n",
    "test_dataset = TensorDataset(test_data, test_labels)\n",
    "val_dataset = TensorDataset(val_data, val_labels)\n",
    "\n",
    "# Create a PyTorch Dataloader for the datasets\n",
    "train_loader = DataLoader(train_dataset, batch_size=batch_size, shuffle=True)\n",
    "test_loader = DataLoader(test_dataset, batch_size=batch_size, shuffle=True)\n",
    "val_loader = DataLoader(val_dataset, batch_size=batch_size, shuffle=True)"
   ],
   "metadata": {
    "collapsed": false,
    "pycharm": {
     "name": "#%%\n"
    }
   }
  },
  {
   "cell_type": "markdown",
   "source": [
    "# Test Network Class"
   ],
   "metadata": {
    "collapsed": false,
    "pycharm": {
     "name": "#%% md\n"
    }
   }
  },
  {
   "cell_type": "code",
   "execution_count": null,
   "outputs": [],
   "source": [
    "# test, output shape should be batch_size x 60\n",
    "\n",
    "def test_Conv8():\n",
    "    x = torch.zeros((512, 3, 8, 8))  # batch size 512, channel 3, board size [8, 8]\n",
    "    model = Conv8()\n",
    "    scores = model(x)\n",
    "    print(scores.size())\n",
    "test_Conv8()"
   ],
   "metadata": {
    "collapsed": false,
    "pycharm": {
     "name": "#%%\n"
    }
   }
  },
  {
   "cell_type": "markdown",
   "source": [
    "# "
   ],
   "metadata": {
    "collapsed": false,
    "pycharm": {
     "name": "#%% md\n"
    }
   }
  },
  {
   "attachments": {},
   "cell_type": "markdown",
   "metadata": {},
   "source": [
    "# "
   ]
  }
 ],
 "metadata": {
  "kernelspec": {
   "display_name": "Python 3",
   "language": "python",
   "name": "python3"
  },
  "language_info": {
   "codemirror_mode": {
    "name": "ipython",
    "version": 3
   },
   "file_extension": ".py",
   "mimetype": "text/x-python",
   "name": "python",
   "nbconvert_exporter": "python",
   "pygments_lexer": "ipython3",
   "version": "3.9.9"
  },
  "orig_nbformat": 4,
  "vscode": {
   "interpreter": {
    "hash": "b0fa6594d8f4cbf19f97940f81e996739fb7646882a419484c72d19e05852a7e"
   }
  }
 },
 "nbformat": 4,
 "nbformat_minor": 2
}